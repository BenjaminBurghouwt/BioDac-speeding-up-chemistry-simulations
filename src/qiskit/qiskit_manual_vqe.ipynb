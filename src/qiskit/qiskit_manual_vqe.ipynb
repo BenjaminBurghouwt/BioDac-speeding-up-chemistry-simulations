{
 "cells": [
  {
   "cell_type": "code",
   "id": "initial_id",
   "metadata": {
    "collapsed": true,
    "ExecuteTime": {
     "end_time": "2024-06-25T12:18:49.708479Z",
     "start_time": "2024-06-25T12:18:48.495685Z"
    }
   },
   "source": [
    "import numpy as np\n",
    "\n",
    "from qiskit.transpiler.preset_passmanagers import generate_preset_pass_manager\n",
    "from qiskit.quantum_info import SparsePauliOp\n",
    "from qiskit_aer import Aer\n",
    "from qiskit_nature.second_q.drivers import PySCFDriver\n",
    "from qiskit_nature.second_q.mappers import JordanWignerMapper, ParityMapper\n",
    "from qiskit_nature.second_q.circuit.library import UCCSD, HartreeFock\n",
    "from qiskit_nature.units import DistanceUnit\n",
    "from qiskit_nature import settings\n",
    "\n",
    "from scipy.optimize import minimize\n",
    "\n",
    "import matplotlib.pyplot as plt\n",
    "\n",
    "from qiskit_ibm_runtime import Session\n",
    "from qiskit_ibm_runtime import EstimatorV2 as Estimator"
   ],
   "outputs": [],
   "execution_count": 1
  },
  {
   "metadata": {},
   "cell_type": "markdown",
   "source": [
    "# Creating a manual VQE for finding the ground state energy of hydrogen\n",
    "\n",
    "It is not possible to run the code from Qiskit Nature directly on a Quantum Inspire (or IBM) backend, forcing us to create our own VQE. Fortunately we can still make use of many of the Qiskit Nature functions in our code. \n",
    "\n",
    "> For detailed documentation on how to run VQE using Qiskit refer to [this](https://learning.quantum.ibm.com/tutorial/variational-quantum-eigensolver#step-1-map-classical-inputs-to-a-quantum-problem) documentation\n",
    "\n",
    "> For detailed documentation on how to use Qiskit Nature functions in the current version of Qiskit refer to [this](https://qiskit-community.github.io/qiskit-nature/migration/index.html) migration guide.\n",
    "\n",
    "For this example we will use the IBM qasm_simulator backend. For an example on how to run it on a Quantum Inspire backend, refer to the `qiskit_quantum_inspire.ipynb` example. "
   ],
   "id": "d1220917285f7a4b"
  },
  {
   "metadata": {
    "ExecuteTime": {
     "end_time": "2024-06-25T12:18:49.713680Z",
     "start_time": "2024-06-25T12:18:49.710313Z"
    }
   },
   "cell_type": "code",
   "source": "backend = Aer.get_backend(\"qasm_simulator\")",
   "id": "8f9fa66d0e6285e1",
   "outputs": [],
   "execution_count": 2
  },
  {
   "metadata": {},
   "cell_type": "markdown",
   "source": [
    "One of the handiest functions in Qiskit Nature is the driver and ansatz functions to create your hamiltonian and from that a quantum circuit. Luckily with minimal modifications we can still make use of these functions. \n",
    "\n",
    " The only modification we have to make is to redefine the hamiltonian created with Qiskit Nature in a `SparsePauliOp` object.\n",
    " \n",
    "To ensure compatibility with future releases of Qiskit, set the value of `use_pauli_sum_op` to False. This will transition from using the deprecated `PauliSumOp` class to the `SparsePauliOp` class in the qiskit.quantum_info module.\n",
    "\n",
    "After this we create the driver as normal, but will use a loop to set the hamiltonian in the expected format in our `SparsePauliOp` object. \n",
    "\n",
    "Here we also define the mapper we use. Experiment with these as they greatly affect performance and might affect accuracy. "
   ],
   "id": "2b45d11b5a7a97f4"
  },
  {
   "metadata": {
    "ExecuteTime": {
     "end_time": "2024-06-25T12:18:49.801868Z",
     "start_time": "2024-06-25T12:18:49.714694Z"
    }
   },
   "cell_type": "code",
   "source": [
    "settings.use_pauli_sum_op = False\n",
    "\n",
    "driver = PySCFDriver(\n",
    "    atom=\"H 0 0 0; H 0 0 0.735\",\n",
    "    basis=\"sto3g\",\n",
    "    charge=0,\n",
    "    spin=0,\n",
    "    unit=DistanceUnit.ANGSTROM,\n",
    ")\n",
    "\n",
    "electronic_structure = driver.run()\n",
    "\n",
    "hamiltonian = electronic_structure.hamiltonian.second_q_op()\n",
    "\n",
    "# mapper = JordanWignerMapper()\n",
    "mapper = ParityMapper(num_particles=electronic_structure.num_particles)\n",
    "tapered_mapper = electronic_structure.get_tapered_mapper(mapper)\n",
    "\n",
    "# qubit_op = mapper.map(hamiltonian)\n",
    "tapered_op = tapered_mapper.map(hamiltonian)\n",
    "\n",
    "hamiltonian_list = []\n",
    "\n",
    "for pauli, coeff in sorted(tapered_op.label_iter()):\n",
    "    # print(f\"{coeff.real:+.8f} * {pauli}\")\n",
    "    hamiltonian_list.append((pauli, coeff.real))\n",
    "    \n",
    "hamiltonian = SparsePauliOp.from_list(hamiltonian_list)\n",
    "print(hamiltonian)"
   ],
   "id": "1e25365cf5b17360",
   "outputs": [
    {
     "name": "stdout",
     "output_type": "stream",
     "text": [
      "SparsePauliOp(['I', 'X', 'Z'],\n",
      "              coeffs=[-1.04109314+0.j, -0.1809312 +0.j, -0.79587485+0.j])\n"
     ]
    }
   ],
   "execution_count": 3
  },
  {
   "metadata": {},
   "cell_type": "markdown",
   "source": "Just as in Qiskit Nature, we can use the same objects to create an ansatz, using our mapper. This will greatly simplify creating the quantum circuit of our VQE.",
   "id": "86e9fb6da156ca40"
  },
  {
   "metadata": {
    "ExecuteTime": {
     "end_time": "2024-06-25T12:18:50.104957Z",
     "start_time": "2024-06-25T12:18:49.802921Z"
    }
   },
   "cell_type": "code",
   "source": [
    "ansatz = UCCSD(\n",
    "        electronic_structure.num_spatial_orbitals,\n",
    "        electronic_structure.num_particles,\n",
    "        tapered_mapper,\n",
    "        initial_state=HartreeFock(\n",
    "            electronic_structure.num_spatial_orbitals,\n",
    "            electronic_structure.num_particles,\n",
    "            tapered_mapper,\n",
    "        ),\n",
    "    )\n",
    "num_params = ansatz.num_parameters\n",
    "\n",
    "ansatz.decompose().draw(\"mpl\")"
   ],
   "id": "68e979b0d17d9fe",
   "outputs": [
    {
     "data": {
      "text/plain": [
       "<Figure size 269.064x117.056 with 1 Axes>"
      ],
      "image/png": "[encoded data removed]"
     },
     "execution_count": 4,
     "metadata": {},
     "output_type": "execute_result"
    }
   ],
   "execution_count": 4
  },
  {
   "metadata": {},
   "cell_type": "markdown",
   "source": "",
   "id": "4f2efdac2d608c42"
  },
  {
   "metadata": {},
   "cell_type": "markdown",
   "source": [
    "### Transpiling Quantum Circuits for Backend Compatibility\n",
    "To reduce execution time and ensure compatibility with the backend's instruction set architecture (ISA), we optimize the quantum circuit (ansatz) and Hamiltonian using Qiskit's preset pass manager. Targen is not available on certain backends, therefor we can not use the pass manager. Using `transpile` will offer a similar effect."
   ],
   "id": "3a7f1c613b25bf39"
  },
  {
   "metadata": {
    "ExecuteTime": {
     "end_time": "2024-06-25T12:18:54.393776Z",
     "start_time": "2024-06-25T12:18:54.342223Z"
    }
   },
   "cell_type": "code",
   "source": [
    "target = backend.target\n",
    "pm = generate_preset_pass_manager(target=target, optimization_level=3)\n",
    "\n",
    "# quantum inspire backend does not have a target, so we can't use the pass manager\n",
    "# ansatz_isa = transpile(ansatz, backend=backend)\n",
    "\n",
    "ansatz_isa = pm.run(ansatz)\n",
    "\n",
    "hamiltonian_isa = hamiltonian.apply_layout(layout=ansatz_isa.layout)\n",
    "\n",
    "ansatz_isa.draw(output=\"mpl\")"
   ],
   "id": "1d7fffbcdb2c2f29",
   "outputs": [
    {
     "data": {
      "text/plain": [
       "<Figure size 185.453x117.056 with 1 Axes>"
      ],
      "image/png": "[encoded data removed]"
     },
     "execution_count": 5,
     "metadata": {},
     "output_type": "execute_result"
    }
   ],
   "execution_count": 5
  },
  {
   "metadata": {},
   "cell_type": "markdown",
   "source": [
    "### Creating the Cost Function\n",
    "Like many classical optimization problems, the solution to a VQE problem can be formulated as minimization of a scalar cost function. By definition, VQE looks to find the ground state solution to a Hamiltonian by optimizing the ansatz circuit parameters to minimize the expectation value (energy) of the Hamiltonian. With the Qiskit Runtime Estimator directly taking a Hamiltonian and parameterized ansatz, and returning the necessary energy.\n",
    "\n",
    "The `run()` method of [Qiskit Runtime](https://docs.quantum.ibm.com/api/qiskit-ibm-runtime/qiskit_ibm_runtime.EstimatorV2) `EstimatorV2` takes an iterable of `primitive unified blocs` (PUBs). Each PUB is an iterable in the format `(circuit, observables, parameter_values: optional, precision: optional)`"
   ],
   "id": "32b11315f9fd6748"
  },
  {
   "metadata": {
    "ExecuteTime": {
     "end_time": "2024-06-25T12:18:55.431256Z",
     "start_time": "2024-06-25T12:18:55.428770Z"
    }
   },
   "cell_type": "code",
   "source": [
    "def cost_func(params, ansatz, hamiltonian, estimator):\n",
    "    \"\"\"Return estimate of energy from estimator\n",
    "\n",
    "    Parameters:\n",
    "        params (ndarray): Array of ansatz parameters\n",
    "        ansatz (QuantumCircuit): Parameterized ansatz circuit\n",
    "        hamiltonian (SparsePauliOp): Operator representation of Hamiltonian\n",
    "        estimator (EstimatorV2): Estimator primitive instance\n",
    "        cost_history: Dictionary for storing intermediate results\n",
    "\n",
    "    Returns:\n",
    "        float: Energy estimate\n",
    "    \"\"\"\n",
    "    pub = (ansatz, [hamiltonian], [params])\n",
    "    result = estimator.run(pubs=[pub]).result()\n",
    "    energy = result[0].data.evs[0] + nuclear_repulsion_energy\n",
    "\n",
    "    cost_history[\"iters\"] += 1\n",
    "    cost_history[\"prev_vector\"] = params\n",
    "    cost_history[\"cost_history\"].append(energy)\n",
    "    print(f\"Iters. done: {cost_history['iters']} [Current cost: {energy}]\")\n",
    "\n",
    "    return energy\n",
    "\n",
    "cost_history = {\n",
    "    \"prev_vector\": None,\n",
    "    \"iters\": 0,\n",
    "    \"cost_history\": [],\n",
    "}\n",
    "\n",
    "nuclear_repulsion_energy = electronic_structure.nuclear_repulsion_energy"
   ],
   "id": "c252935625e252e7",
   "outputs": [],
   "execution_count": 6
  },
  {
   "metadata": {
    "ExecuteTime": {
     "end_time": "2024-06-25T12:18:56.599275Z",
     "start_time": "2024-06-25T12:18:56.595964Z"
    }
   },
   "cell_type": "code",
   "source": [
    "# set initial point (either random or zero)\n",
    "# x0 = 2 * np.pi * np.random.random(num_params)\n",
    "x0 = np.zeros(num_params)\n",
    "x0"
   ],
   "id": "9ace7b23f295359b",
   "outputs": [
    {
     "data": {
      "text/plain": [
       "array([0.])"
      ]
     },
     "execution_count": 7,
     "metadata": {},
     "output_type": "execute_result"
    }
   ],
   "execution_count": 7
  },
  {
   "metadata": {},
   "cell_type": "markdown",
   "source": [
    "We can now use a classical optimizer of our choice to minimize the cost function. Here, we use the COBYLA routine from [SciPy](https://docs.scipy.org/doc/scipy/reference/generated/scipy.optimize.minimize.html) through the `minimize` function. Note that when running on real quantum hardware, the choice of optimizer is important, as not all optimizers handle noisy cost function landscapes equally well.\n",
    "\n",
    "Because we are sending a large number of jobs that we would like to execute together, we use a `Session` to execute all the generated circuits in one block. Here args is the standard SciPy way to supply the additional parameters needed by the cost function."
   ],
   "id": "51c3733eb04fd44f"
  },
  {
   "metadata": {
    "ExecuteTime": {
     "end_time": "2024-06-25T12:18:59.056931Z",
     "start_time": "2024-06-25T12:18:58.838242Z"
    }
   },
   "cell_type": "code",
   "source": [
    "with Session(backend=backend) as session:\n",
    "    estimator = Estimator(mode=session)\n",
    "    estimator.options.default_shots = 10000\n",
    "\n",
    "    result = minimize(\n",
    "        cost_func,\n",
    "        x0,\n",
    "        args=(ansatz_isa, hamiltonian_isa, estimator),\n",
    "        method=\"cobyla\",\n",
    "    )"
   ],
   "id": "205236b99a8afcb8",
   "outputs": [
    {
     "name": "stderr",
     "output_type": "stream",
     "text": [
      "/Users/benjamin/Code Projects/HvA/biodac-speeding-up-chemistry-simulations/venv/lib/python3.12/site-packages/qiskit_ibm_runtime/fake_provider/local_service.py:247: UserWarning: Options {'default_shots': 10000} have no effect in local testing mode.\n",
      "  warnings.warn(f\"Options {options_copy} have no effect in local testing mode.\")\n"
     ]
    },
    {
     "name": "stdout",
     "output_type": "stream",
     "text": [
      "Iters. done: 1 [Current cost: -1.113995256132585]\n",
      "Iters. done: 2 [Current cost: 0.18429215533705479]\n",
      "Iters. done: 3 [Current cost: -0.1596144582535598]\n",
      "Iters. done: 4 [Current cost: -0.8993483226230364]\n",
      "Iters. done: 5 [Current cost: -0.9363231262907697]\n",
      "Iters. done: 6 [Current cost: -1.1364062524492358]\n",
      "Iters. done: 7 [Current cost: -1.1069200966865882]\n",
      "Iters. done: 8 [Current cost: -1.1298941881768485]\n",
      "Iters. done: 9 [Current cost: -1.1372869903709821]\n",
      "Iters. done: 10 [Current cost: -1.135412766451159]\n",
      "Iters. done: 11 [Current cost: -1.1293033979407943]\n",
      "Iters. done: 12 [Current cost: -1.1385942837782466]\n",
      "Iters. done: 13 [Current cost: -1.1311548482180016]\n",
      "Iters. done: 14 [Current cost: -1.1399362636619408]\n",
      "Iters. done: 15 [Current cost: -1.1360837563930066]\n",
      "Iters. done: 16 [Current cost: -1.1315786885013197]\n",
      "Iters. done: 17 [Current cost: -1.139688570962972]\n",
      "Iters. done: 18 [Current cost: -1.1324447983870511]\n",
      "Iters. done: 19 [Current cost: -1.1341407025607642]\n",
      "Iters. done: 20 [Current cost: -1.1346176586396073]\n",
      "Iters. done: 21 [Current cost: -1.1405546808487035]\n",
      "Iters. done: 22 [Current cost: -1.1329044112276794]\n"
     ]
    }
   ],
   "execution_count": 8
  },
  {
   "metadata": {},
   "cell_type": "markdown",
   "source": "At the terminus of this routine we have a result in the standard SciPy `OptimizeResult` format. From this we see that it took `nfev` number of cost function evaluations to obtain the solution vector of parameter angles (`x`) that, when plugged into the ansatz circuit, yield the approximate ground state solution we were looking for.",
   "id": "9bc4f78df11bc9af"
  },
  {
   "metadata": {
    "ExecuteTime": {
     "end_time": "2024-06-25T12:19:01.598306Z",
     "start_time": "2024-06-25T12:19:01.593703Z"
    }
   },
   "cell_type": "code",
   "source": "result",
   "id": "6527e27afab30d81",
   "outputs": [
    {
     "data": {
      "text/plain": [
       " message: Optimization terminated successfully.\n",
       " success: True\n",
       "  status: 1\n",
       "     fun: -1.1329044112276794\n",
       "       x: [-8.223e-02]\n",
       "    nfev: 22\n",
       "   maxcv: 0.0"
      ]
     },
     "execution_count": 9,
     "metadata": {},
     "output_type": "execute_result"
    }
   ],
   "execution_count": 9
  },
  {
   "metadata": {
    "ExecuteTime": {
     "end_time": "2024-06-25T12:24:33.439377Z",
     "start_time": "2024-06-25T12:24:33.390868Z"
    }
   },
   "cell_type": "code",
   "source": [
    "fig, ax = plt.subplots()\n",
    "ax.plot(range(cost_history[\"iters\"]), cost_history[\"cost_history\"])\n",
    "ax.set_xlabel(\"Iterations\")\n",
    "ax.set_ylabel(\"Cost\")\n",
    "plt.draw()"
   ],
   "id": "76969bfc9765c9c9",
   "outputs": [
    {
     "data": {
      "text/plain": [
       "<Figure size 640x480 with 1 Axes>"
      ],
      "image/png": "[encoded data removed]"
     },
     "metadata": {},
     "output_type": "display_data"
    }
   ],
   "execution_count": 10
  },
  {
   "metadata": {},
   "cell_type": "code",
   "outputs": [],
   "execution_count": null,
   "source": "",
   "id": "30b47f4d6d2b02b"
  }
 ],
 "metadata": {
  "kernelspec": {
   "display_name": "Python 3",
   "language": "python",
   "name": "python3"
  },
  "language_info": {
   "codemirror_mode": {
    "name": "ipython",
    "version": 2
   },
   "file_extension": ".py",
   "mimetype": "text/x-python",
   "name": "python",
   "nbconvert_exporter": "python",
   "pygments_lexer": "ipython2",
   "version": "2.7.6"
  }
 },
 "nbformat": 4,
 "nbformat_minor": 5
}
