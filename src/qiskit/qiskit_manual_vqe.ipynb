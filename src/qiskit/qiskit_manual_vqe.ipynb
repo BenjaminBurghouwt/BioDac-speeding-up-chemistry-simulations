{
 "cells": [
  {
   "cell_type": "code",
   "id": "initial_id",
   "metadata": {
    "collapsed": true,
    "ExecuteTime": {
     "end_time": "2024-06-23T10:16:51.869988Z",
     "start_time": "2024-06-23T10:16:50.666665Z"
    }
   },
   "source": [
    "import numpy as np\n",
    "\n",
    "from qiskit.transpiler.preset_passmanagers import generate_preset_pass_manager\n",
    "from qiskit.quantum_info import SparsePauliOp\n",
    "from qiskit_aer import Aer\n",
    "from qiskit_nature.second_q.drivers import PySCFDriver\n",
    "from qiskit_nature.second_q.mappers import JordanWignerMapper, ParityMapper\n",
    "from qiskit_nature.second_q.circuit.library import UCCSD, HartreeFock\n",
    "from qiskit_nature.units import DistanceUnit\n",
    "from qiskit_nature import settings\n",
    "\n",
    "from scipy.optimize import minimize\n",
    "\n",
    "import matplotlib.pyplot as plt\n",
    "\n",
    "from qiskit_ibm_runtime import Session\n",
    "from qiskit_ibm_runtime import EstimatorV2 as Estimator"
   ],
   "outputs": [],
   "execution_count": 3
  },
  {
   "metadata": {
    "ExecuteTime": {
     "end_time": "2024-06-23T10:17:30.903862Z",
     "start_time": "2024-06-23T10:17:30.901560Z"
    }
   },
   "cell_type": "code",
   "source": "backend = Aer.get_backend(\"qasm_simulator\")",
   "id": "8f9fa66d0e6285e1",
   "outputs": [],
   "execution_count": 4
  },
  {
   "metadata": {
    "ExecuteTime": {
     "end_time": "2024-06-23T10:18:03.186915Z",
     "start_time": "2024-06-23T10:18:03.134436Z"
    }
   },
   "cell_type": "code",
   "source": [
    "settings.use_pauli_sum_op = False\n",
    "\n",
    "driver = PySCFDriver(\n",
    "    atom=\"H 0 0 0; H 0 0 0.735\",\n",
    "    basis=\"sto3g\",\n",
    "    charge=0,\n",
    "    spin=0,\n",
    "    unit=DistanceUnit.ANGSTROM,\n",
    ")\n",
    "\n",
    "electronic_structure = driver.run()\n",
    "\n",
    "hamiltonian = electronic_structure.hamiltonian.second_q_op()\n",
    "\n",
    "# mapper = JordanWignerMapper()\n",
    "mapper = ParityMapper(num_particles=electronic_structure.num_particles)\n",
    "tapered_mapper = electronic_structure.get_tapered_mapper(mapper)\n",
    "\n",
    "# qubit_op = mapper.map(hamiltonian)\n",
    "tapered_op = tapered_mapper.map(hamiltonian)\n",
    "\n",
    "hamiltonian_list = []\n",
    "\n",
    "for pauli, coeff in sorted(tapered_op.label_iter()):\n",
    "    # print(f\"{coeff.real:+.8f} * {pauli}\")\n",
    "    hamiltonian_list.append((pauli, coeff.real))\n",
    "    \n",
    "hamiltonian = SparsePauliOp.from_list(hamiltonian_list)\n",
    "print(hamiltonian)"
   ],
   "id": "1e25365cf5b17360",
   "outputs": [
    {
     "name": "stdout",
     "output_type": "stream",
     "text": [
      "SparsePauliOp(['I', 'X', 'Z'],\n",
      "              coeffs=[-1.04109314+0.j, -0.1809312 +0.j, -0.79587485+0.j])\n"
     ]
    }
   ],
   "execution_count": 13
  },
  {
   "metadata": {
    "ExecuteTime": {
     "end_time": "2024-06-23T10:18:03.811675Z",
     "start_time": "2024-06-23T10:18:03.778628Z"
    }
   },
   "cell_type": "code",
   "source": [
    "ansatz = UCCSD(\n",
    "        electronic_structure.num_spatial_orbitals,\n",
    "        electronic_structure.num_particles,\n",
    "        tapered_mapper,\n",
    "        initial_state=HartreeFock(\n",
    "            electronic_structure.num_spatial_orbitals,\n",
    "            electronic_structure.num_particles,\n",
    "            tapered_mapper,\n",
    "        ),\n",
    "    )\n",
    "num_params = ansatz.num_parameters\n",
    "\n",
    "ansatz.decompose().draw(\"mpl\")"
   ],
   "id": "68e979b0d17d9fe",
   "outputs": [
    {
     "data": {
      "text/plain": [
       "<Figure size 269.064x117.056 with 1 Axes>"
      ],
      "image/png": "[encoded data removed]"
     },
     "execution_count": 14,
     "metadata": {},
     "output_type": "execute_result"
    }
   ],
   "execution_count": 14
  },
  {
   "metadata": {
    "ExecuteTime": {
     "end_time": "2024-06-23T10:18:04.445093Z",
     "start_time": "2024-06-23T10:18:04.407902Z"
    }
   },
   "cell_type": "code",
   "source": [
    "target = backend.target\n",
    "pm = generate_preset_pass_manager(target=target, optimization_level=3)\n",
    "\n",
    "ansatz_isa = pm.run(ansatz)\n",
    "\n",
    "hamiltonian_isa = hamiltonian.apply_layout(layout=ansatz_isa.layout)\n",
    "\n",
    "ansatz_isa.draw(output=\"mpl\")"
   ],
   "id": "1d7fffbcdb2c2f29",
   "outputs": [
    {
     "data": {
      "text/plain": [
       "<Figure size 185.453x117.056 with 1 Axes>"
      ],
      "image/png": "[encoded data removed]"
     },
     "execution_count": 15,
     "metadata": {},
     "output_type": "execute_result"
    }
   ],
   "execution_count": 15
  },
  {
   "metadata": {
    "ExecuteTime": {
     "end_time": "2024-06-23T10:18:05.006241Z",
     "start_time": "2024-06-23T10:18:05.003763Z"
    }
   },
   "cell_type": "code",
   "source": [
    "def cost_func(params, ansatz, hamiltonian, estimator):\n",
    "    \"\"\"Return estimate of energy from estimator\n",
    "\n",
    "    Parameters:\n",
    "        params (ndarray): Array of ansatz parameters\n",
    "        ansatz (QuantumCircuit): Parameterized ansatz circuit\n",
    "        hamiltonian (SparsePauliOp): Operator representation of Hamiltonian\n",
    "        estimator (EstimatorV2): Estimator primitive instance\n",
    "        cost_history_dict: Dictionary for storing intermediate results\n",
    "\n",
    "    Returns:\n",
    "        float: Energy estimate\n",
    "    \"\"\"\n",
    "    pub = (ansatz, [hamiltonian], [params])\n",
    "    result = estimator.run(pubs=[pub]).result()\n",
    "    energy = result[0].data.evs[0] + nuclear_repulsion_energy\n",
    "\n",
    "    cost_history[\"iters\"] += 1\n",
    "    cost_history[\"prev_vector\"] = params\n",
    "    cost_history[\"cost_history\"].append(energy)\n",
    "    print(f\"Iters. done: {cost_history['iters']} [Current cost: {energy}]\")\n",
    "\n",
    "    return energy\n",
    "\n",
    "cost_history = {\n",
    "    \"prev_vector\": None,\n",
    "    \"iters\": 0,\n",
    "    \"cost_history\": [],\n",
    "}\n",
    "\n",
    "nuclear_repulsion_energy = electronic_structure.nuclear_repulsion_energy"
   ],
   "id": "c252935625e252e7",
   "outputs": [],
   "execution_count": 16
  },
  {
   "metadata": {
    "ExecuteTime": {
     "end_time": "2024-06-23T10:18:05.758735Z",
     "start_time": "2024-06-23T10:18:05.756347Z"
    }
   },
   "cell_type": "code",
   "source": [
    "# x0 = 2 * np.pi * np.random.random(num_params)\n",
    "x0 = np.zeros(num_params)\n",
    "x0"
   ],
   "id": "9ace7b23f295359b",
   "outputs": [
    {
     "data": {
      "text/plain": [
       "array([0.])"
      ]
     },
     "execution_count": 17,
     "metadata": {},
     "output_type": "execute_result"
    }
   ],
   "execution_count": 17
  },
  {
   "metadata": {
    "ExecuteTime": {
     "end_time": "2024-06-23T10:18:06.660512Z",
     "start_time": "2024-06-23T10:18:06.469139Z"
    }
   },
   "cell_type": "code",
   "source": [
    "with Session(backend=backend) as session:\n",
    "    estimator = Estimator(mode=session)\n",
    "    estimator.options.default_shots = 10000\n",
    "\n",
    "    result = minimize(\n",
    "        cost_func,\n",
    "        x0,\n",
    "        args=(ansatz_isa, hamiltonian_isa, estimator),\n",
    "        method=\"cobyla\",\n",
    "    )"
   ],
   "id": "205236b99a8afcb8",
   "outputs": [
    {
     "name": "stdout",
     "output_type": "stream",
     "text": [
      "Iters. done: 1 [Current cost: -1.1148787092565313]\n",
      "Iters. done: 2 [Current cost: 0.17417093217118096]\n",
      "Iters. done: 3 [Current cost: -0.1512942847715687]\n",
      "Iters. done: 4 [Current cost: -0.8918064567548222]\n",
      "Iters. done: 5 [Current cost: -0.9242068195780092]\n",
      "Iters. done: 6 [Current cost: -1.1431551826676585]\n",
      "Iters. done: 7 [Current cost: -1.0973798890288466]\n",
      "Iters. done: 8 [Current cost: -1.1295944657632346]\n",
      "Iters. done: 9 [Current cost: -1.1399021202259512]\n",
      "Iters. done: 10 [Current cost: -1.1298193848195877]\n",
      "Iters. done: 11 [Current cost: -1.1349401546958369]\n",
      "Iters. done: 12 [Current cost: -1.140064725855166]\n",
      "Iters. done: 13 [Current cost: -1.1408760908240527]\n",
      "Iters. done: 14 [Current cost: -1.1311944220583916]\n",
      "Iters. done: 15 [Current cost: -1.1443914740007433]\n",
      "Iters. done: 16 [Current cost: -1.1418300029817385]\n",
      "Iters. done: 17 [Current cost: -1.138808919122106]\n",
      "Iters. done: 18 [Current cost: -1.1361227871929565]\n",
      "Iters. done: 19 [Current cost: -1.1297646399027426]\n"
     ]
    }
   ],
   "execution_count": 18
  },
  {
   "metadata": {
    "ExecuteTime": {
     "end_time": "2024-06-23T10:18:07.816727Z",
     "start_time": "2024-06-23T10:18:07.813420Z"
    }
   },
   "cell_type": "code",
   "source": "result",
   "id": "6527e27afab30d81",
   "outputs": [
    {
     "data": {
      "text/plain": [
       " message: Optimization terminated successfully.\n",
       " success: True\n",
       "  status: 1\n",
       "     fun: -1.1297646399027426\n",
       "       x: [-1.244e-01]\n",
       "    nfev: 19\n",
       "   maxcv: 0.0"
      ]
     },
     "execution_count": 19,
     "metadata": {},
     "output_type": "execute_result"
    }
   ],
   "execution_count": 19
  },
  {
   "metadata": {
    "ExecuteTime": {
     "end_time": "2024-06-23T10:18:08.728975Z",
     "start_time": "2024-06-23T10:18:08.666712Z"
    }
   },
   "cell_type": "code",
   "source": [
    "fig, ax = plt.subplots()\n",
    "ax.plot(range(cost_history[\"iters\"]), cost_history[\"cost_history\"])\n",
    "ax.set_xlabel(\"Iterations\")\n",
    "ax.set_ylabel(\"Cost\")\n",
    "plt.draw()"
   ],
   "id": "76969bfc9765c9c9",
   "outputs": [
    {
     "data": {
      "text/plain": [
       "<Figure size 640x480 with 1 Axes>"
      ],
      "image/png": "[encoded data removed]"
     },
     "metadata": {},
     "output_type": "display_data"
    }
   ],
   "execution_count": 20
  },
  {
   "metadata": {},
   "cell_type": "code",
   "outputs": [],
   "execution_count": null,
   "source": "",
   "id": "30b47f4d6d2b02b"
  }
 ],
 "metadata": {
  "kernelspec": {
   "display_name": "Python 3",
   "language": "python",
   "name": "python3"
  },
  "language_info": {
   "codemirror_mode": {
    "name": "ipython",
    "version": 2
   },
   "file_extension": ".py",
   "mimetype": "text/x-python",
   "name": "python",
   "nbconvert_exporter": "python",
   "pygments_lexer": "ipython2",
   "version": "2.7.6"
  }
 },
 "nbformat": 4,
 "nbformat_minor": 5
}
