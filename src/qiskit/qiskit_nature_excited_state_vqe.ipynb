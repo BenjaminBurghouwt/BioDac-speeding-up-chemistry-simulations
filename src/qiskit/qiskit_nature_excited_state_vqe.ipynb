{
 "cells": [
  {
   "metadata": {},
   "cell_type": "markdown",
   "source": [
    "## Using Qiskit Nature and VQE for finding the excited energy state of H2\n",
    "\n",
    "> For additional information on these examples and Qiskit Nature please first check the `qiskit_nature_ground_state_vqe.ipynb` example.\n",
    "\n",
    "Calculating the excited energy states of H2 will follow the exact same steps as calculating the ground state energy. The only difference is that we will use the QEOM algorithm to calculate the excited states. <br>\n",
    "The QEOM algorithm requires the ground state energy solver as input. In this example, we will use the VQE algorithm as the ground state energy solver just like the ground state VQE example. The QEOM algorithm will then calculate the excited states based on the ground state energy.\n",
    "\n",
    "For more information on how to do the ground state energy calculation, please refer to the ground state energy calculation example.\n",
    "\n",
    "The EOM method finds the excitation energies (differences in energy between the ground state and \n",
    "the excited states) by solving a pseudo-eigenvalue problem. Thus, the solver needs a `GroundStateEigensolver` to compute the ground state of the system. It then uses an estimator to estimate the energies of the different excited states. The `sd` string specifies the type of excitations to consider. In this case, `sd` stands for single and double excitations. The `EvaluationRule.ALL` specifies that all excited states should be calculated.\n",
    "\n",
    "The QEOM algorithm will return a `QEOMResult` object that contains the total energies of the ground state and the excited states."
   ],
   "id": "8e8ceba623d3686b"
  },
  {
   "metadata": {
    "ExecuteTime": {
     "end_time": "2024-05-11T11:30:45.369178Z",
     "start_time": "2024-05-11T11:30:44.666739Z"
    }
   },
   "cell_type": "code",
   "source": [
    "from qiskit_nature.units import DistanceUnit\n",
    "from qiskit_nature.second_q.drivers import PySCFDriver\n",
    "from qiskit_nature.second_q.mappers import JordanWignerMapper\n",
    "from qiskit_nature.second_q.circuit.library import HartreeFock, UCCSD\n",
    "from qiskit_nature.second_q.algorithms import GroundStateEigensolver, QEOM, EvaluationRule\n",
    "\n",
    "from qiskit_algorithms import VQE\n",
    "from qiskit_algorithms.optimizers import SLSQP\n",
    "from qiskit.primitives import Estimator\n",
    "\n",
    "\n",
    "driver = PySCFDriver(\n",
    "    atom=\"H 0 0 0; H 0 0 0.735\",\n",
    "    basis=\"sto3g\",\n",
    "    charge=0,\n",
    "    spin=0,\n",
    "    unit=DistanceUnit.ANGSTROM,\n",
    ")\n",
    "\n",
    "electronic_structure = driver.run()\n",
    "mapper = JordanWignerMapper()\n",
    "estimator = Estimator()\n",
    "\n",
    "ansatz = UCCSD(\n",
    "    electronic_structure.num_spatial_orbitals,\n",
    "    electronic_structure.num_particles,\n",
    "    mapper,\n",
    "    initial_state=HartreeFock(\n",
    "        electronic_structure.num_spatial_orbitals,\n",
    "        electronic_structure.num_particles,\n",
    "        mapper,\n",
    "    ),\n",
    ")\n",
    "\n",
    "vqe_solver = VQE(Estimator(), ansatz, SLSQP())\n",
    "vqe_solver.initial_point = [0.0] * ansatz.num_parameters\n",
    "\n",
    "gse = GroundStateEigensolver(mapper, vqe_solver)\n",
    "qeom_excited_states_solver = QEOM(gse, estimator, \"sd\", EvaluationRule.ALL)\n",
    "\n",
    "qeom_results = qeom_excited_states_solver.solve(electronic_structure)\n",
    "\n",
    "print(qeom_results)"
   ],
   "id": "3cda65c0d076fec2",
   "outputs": [
    {
     "name": "stdout",
     "output_type": "stream",
     "text": [
      "=== GROUND STATE ENERGY ===\n",
      " \n",
      "* Electronic ground state energy (Hartree): -1.857275030144\n",
      "  - computed part:      -1.857275030144\n",
      "~ Nuclear repulsion energy (Hartree): 0.719968994449\n",
      "> Total ground state energy (Hartree): -1.137306035695\n",
      " \n",
      "=== EXCITED STATE ENERGIES ===\n",
      " \n",
      "  1: \n",
      "* Electronic excited state energy (Hartree): -1.244586766771\n",
      "> Total excited state energy (Hartree): -0.524617772322\n",
      "  2: \n",
      "* Electronic excited state energy (Hartree): -0.882724367172\n",
      "> Total excited state energy (Hartree): -0.162755372723\n",
      "  3: \n",
      "* Electronic excited state energy (Hartree): -0.224913469767\n",
      "> Total excited state energy (Hartree): 0.495055524682\n",
      " \n",
      "=== MEASURED OBSERVABLES ===\n",
      " \n",
      "  0:  # Particles: 2.000 S: 0.000 S^2: 0.000 M: 0.000\n",
      "  1:  # Particles: 2.000 S: 1.000 S^2: 2.000 M: -0.000\n",
      "  2:  # Particles: 2.000 S: 0.000 S^2: 0.000 M: 0.000\n",
      "  3:  # Particles: 2.000 S: 0.000 S^2: 0.000 M: 0.000\n",
      " \n",
      "=== DIPOLE MOMENTS ===\n",
      " \n",
      "~ Nuclear dipole moment (a.u.): [0.0  0.0  1.3889487]\n",
      " \n",
      "  0: \n",
      "  * Electronic dipole moment (a.u.): [0.0  0.0  1.388948767747]\n",
      "    - computed part:      [0.0  0.0  1.388948767747]\n",
      "  > Dipole moment (a.u.): [0.0  0.0  -0.000000067747]  Total: 0.000000067747\n",
      "                 (debye): [0.0  0.0  -0.000000172195]  Total: 0.000000172195\n",
      " \n",
      "  1: \n",
      "  * Electronic dipole moment (a.u.): [0.0  0.0  1.388948701648]\n",
      "    - computed part:      [0.0  0.0  1.388948701648]\n",
      "  > Dipole moment (a.u.): [0.0  0.0  -0.000000001648]  Total: 0.000000001648\n",
      "                 (debye): [0.0  0.0  -0.000000004188]  Total: 0.000000004188\n",
      " \n",
      "  2: \n",
      "  * Electronic dipole moment (a.u.): [0.0  0.0  1.388948786635]\n",
      "    - computed part:      [0.0  0.0  1.388948786635]\n",
      "  > Dipole moment (a.u.): [0.0  0.0  -0.000000086635]  Total: 0.000000086635\n",
      "                 (debye): [0.0  0.0  -0.000000220204]  Total: 0.000000220204\n",
      " \n",
      "  3: \n",
      "  * Electronic dipole moment (a.u.): [0.0  0.0  1.388948710982]\n",
      "    - computed part:      [0.0  0.0  1.388948710982]\n",
      "  > Dipole moment (a.u.): [0.0  0.0  -0.000000010982]  Total: 0.000000010982\n",
      "                 (debye): [0.0  0.0  -0.000000027912]  Total: 0.000000027912\n",
      " \n"
     ]
    }
   ],
   "execution_count": 5
  },
  {
   "metadata": {},
   "cell_type": "markdown",
   "source": [
    "## Plotting results\n",
    "\n",
    "Doing this calculation for a range of `np.linspace(0.5, 2.8, 50)` (50 points between 0.5 and 2.8) and plotting the results will give us the energy curves of the ground state and three excited states for the H2 molecule."
   ],
   "id": "b7a36dbc20278f5c"
  },
  {
   "metadata": {
    "ExecuteTime": {
     "end_time": "2024-06-25T11:06:09.879307Z",
     "start_time": "2024-06-25T11:05:19.482924Z"
    }
   },
   "cell_type": "code",
   "source": [
    "import numpy as np\n",
    "import matplotlib.pyplot as plt\n",
    "\n",
    "from qiskit_nature.units import DistanceUnit\n",
    "from qiskit_nature.second_q.drivers import PySCFDriver\n",
    "from qiskit_nature.second_q.mappers import JordanWignerMapper\n",
    "from qiskit_nature.second_q.circuit.library import HartreeFock, UCCSD\n",
    "from qiskit_nature.second_q.algorithms import GroundStateEigensolver, QEOM, EvaluationRule\n",
    "from qiskit_algorithms import VQE\n",
    "from qiskit.primitives import Estimator\n",
    "from qiskit_algorithms.optimizers import SLSQP\n",
    "\n",
    "\n",
    "hartree_to_cm_inv = 2.194746313702e5\n",
    "distances = np.linspace(0.5, 2.8, 50)\n",
    "\n",
    "ground_state_energies = []\n",
    "excited_state_energies1 = []\n",
    "excited_state_energies2 = []\n",
    "excited_state_energies3 = []\n",
    "\n",
    "mapper = JordanWignerMapper()\n",
    "estimator = Estimator()\n",
    "\n",
    "for distance in distances:\n",
    "    \n",
    "    driver = PySCFDriver(\n",
    "        atom=f\"H 0 0 0; H 0 0 {distance}\",\n",
    "        basis=\"sto3g\",\n",
    "        charge=0,\n",
    "        spin=0,\n",
    "        unit=DistanceUnit.ANGSTROM,\n",
    "    )\n",
    "\n",
    "    electronic_structure = driver.run()\n",
    "\n",
    "    ansatz = UCCSD(\n",
    "        electronic_structure.num_spatial_orbitals,\n",
    "        electronic_structure.num_particles,\n",
    "        mapper,\n",
    "        initial_state=HartreeFock(\n",
    "            electronic_structure.num_spatial_orbitals,\n",
    "            electronic_structure.num_particles,\n",
    "            mapper,\n",
    "        ),\n",
    "    )\n",
    "    \n",
    "    vqe_solver = VQE(Estimator(), ansatz, SLSQP())\n",
    "    vqe_solver.initial_point = [0.0] * ansatz.num_parameters\n",
    "\n",
    "    gse = GroundStateEigensolver(mapper, vqe_solver)\n",
    "    excited_states_solver = QEOM(gse, estimator, \"sd\", EvaluationRule.ALL)\n",
    "    \n",
    "    result = excited_states_solver.solve(electronic_structure)\n",
    "\n",
    "    ground_state_energies.append(result.total_energies[0] * hartree_to_cm_inv) # Index 0 for the ground state\n",
    "    excited_state_energies1.append(result.total_energies[1] * hartree_to_cm_inv) # Index 1 for the first excited state\n",
    "    excited_state_energies2.append(result.total_energies[2] * hartree_to_cm_inv)\n",
    "    excited_state_energies3.append(result.total_energies[3] * hartree_to_cm_inv)\n",
    "\n",
    "# Plot the results\n",
    "plt.figure(figsize=(8, 6))\n",
    "plt.plot(distances, ground_state_energies, label=\"Ground state\")\n",
    "plt.plot(distances, excited_state_energies1, label=\"Excited state 1\")\n",
    "plt.plot(distances, excited_state_energies2, label=\"Excited state 2\")\n",
    "plt.plot(distances, excited_state_energies3, label=\"Excited state 3\")\n",
    "plt.ticklabel_format(style='sci', axis='y', scilimits=(0,0))\n",
    "plt.title('VQE calculation of different energy states of H2 molecule')\n",
    "plt.xlabel(\"Interatomic distance / Ångström\")\n",
    "plt.ylabel(\"Energy / $cm^{-1}$\")\n",
    "plt.legend()\n",
    "plt.show()"
   ],
   "id": "b1e508f1b23b8760",
   "outputs": [
    {
     "data": {
      "text/plain": [
       "<Figure size 800x600 with 1 Axes>"
      ],
      "image/png": "[encoded data removed]"
     },
     "metadata": {},
     "output_type": "display_data"
    }
   ],
   "execution_count": 4
  },
  {
   "metadata": {},
   "cell_type": "markdown",
   "source": "The minimum of the curves is the equilibrium bond distance of the H2 molecule at different excited states. We can find this by using the `argmin` function in from Numpy and finding the corresponding distance in the used distances linspace.\n",
   "id": "c08df30fc0a4d50e"
  },
  {
   "metadata": {
    "ExecuteTime": {
     "end_time": "2024-05-11T11:31:22.042416Z",
     "start_time": "2024-05-11T11:31:22.039896Z"
    }
   },
   "cell_type": "code",
   "source": [
    "# Find the index of the lowest energy for each state\n",
    "lowest_ground_state_energy_index = np.argmin(ground_state_energies)\n",
    "lowest_excited_state_energy1_index = np.argmin(excited_state_energies1)\n",
    "lowest_excited_state_energy2_index = np.argmin(excited_state_energies2)\n",
    "lowest_excited_state_energy3_index = np.argmin(excited_state_energies3)\n",
    "\n",
    "# Use the index to find the corresponding distance\n",
    "lowest_ground_state_energy_distance = distances[lowest_ground_state_energy_index]\n",
    "lowest_excited_state_energy1_distance = distances[lowest_excited_state_energy1_index]\n",
    "lowest_excited_state_energy2_distance = distances[lowest_excited_state_energy2_index]\n",
    "lowest_excited_state_energy3_distance = distances[lowest_excited_state_energy3_index]\n",
    "\n",
    "print(f\"Lowest ground state energy: {ground_state_energies[lowest_ground_state_energy_index]} Hartree at distance: {lowest_ground_state_energy_distance} Angstrom\")\n",
    "print(f\"Lowest excited state 1 energy: {excited_state_energies1[lowest_excited_state_energy1_index]} Hartree at distance: {lowest_excited_state_energy1_distance} Angstrom\")\n",
    "print(f\"Lowest excited state 2 energy: {excited_state_energies2[lowest_excited_state_energy2_index]} Hartree at distance: {lowest_excited_state_energy2_distance} Angstrom\")\n",
    "print(f\"Lowest excited state 3 energy: {excited_state_energies3[lowest_excited_state_energy3_index]} Hartree at distance: {lowest_excited_state_energy3_distance} Angstrom\")"
   ],
   "id": "db46d0ab12b8d42f",
   "outputs": [
    {
     "name": "stdout",
     "output_type": "stream",
     "text": [
      "Lowest ground state energy: -1.1373060261436525 Hartree at distance: 0.7346938775510203 Angstrom\n",
      "Lowest excited state 1 energy: -0.935109354214535 Hartree at distance: 2.6122448979591835 Angstrom\n",
      "Lowest excited state 2 energy: -0.4314279787142885 Hartree at distance: 1.4857142857142855 Angstrom\n",
      "Lowest excited state 3 energy: -0.37684028667026254 Hartree at distance: 2.0489795918367344 Angstrom\n"
     ]
    }
   ],
   "execution_count": 7
  },
  {
   "metadata": {},
   "cell_type": "markdown",
   "source": [
    "## Using a classical optimizer to find the minimum state energies\n",
    "\n",
    "If we put the VQE and QEOM calculations in a function, we can use a classical optimizer to find the minimum of the curve. In this example we use the golden section search from scipy to find the minimum between a range of 0.5 and 2.8. This might be less precise as the example on the ground state energy has a smaller range. The golden section search is a really efficient search algorithm as it only requires one new function evaluation per iteration. It is also robust and easy to use in the sense that is does not require any derivative information. However, it might not be the best choice for high-dimensional optimization problems."
   ],
   "id": "ce21be857a5fbc13"
  },
  {
   "metadata": {
    "ExecuteTime": {
     "end_time": "2024-05-11T11:33:29.479111Z",
     "start_time": "2024-05-11T11:31:23.331839Z"
    }
   },
   "cell_type": "code",
   "source": [
    "from qiskit_nature.units import DistanceUnit\n",
    "from qiskit_nature.second_q.drivers import PySCFDriver\n",
    "from qiskit_nature.second_q.mappers import JordanWignerMapper\n",
    "from qiskit_nature.second_q.circuit.library import HartreeFock, UCCSD\n",
    "from qiskit_nature.second_q.algorithms import GroundStateEigensolver, QEOM\n",
    "from qiskit_algorithms.optimizers import SLSQP\n",
    "from qiskit.primitives import Estimator\n",
    "\n",
    "from scipy.optimize import golden\n",
    "\n",
    "mapper = JordanWignerMapper()\n",
    "estimator = Estimator()\n",
    "\n",
    "\n",
    "def vqe_excited_states_calculation(distance, energy_level=1):\n",
    "    \n",
    "    driver = PySCFDriver(\n",
    "        atom=f\"H 0 0 0; H 0 0 {distance}\",\n",
    "        basis=\"sto3g\",\n",
    "        charge=0,\n",
    "        spin=0,\n",
    "        unit=DistanceUnit.ANGSTROM,\n",
    "    )\n",
    "\n",
    "    electronic_structure = driver.run()\n",
    "\n",
    "    ansatz = UCCSD(\n",
    "        electronic_structure.num_spatial_orbitals,\n",
    "        electronic_structure.num_particles,\n",
    "        mapper,\n",
    "        initial_state=HartreeFock(\n",
    "            electronic_structure.num_spatial_orbitals,\n",
    "            electronic_structure.num_particles,\n",
    "            mapper,\n",
    "        ),\n",
    "    )\n",
    "    \n",
    "    vqe_solver = VQE(Estimator(), ansatz, SLSQP())\n",
    "    vqe_solver.initial_point = [0.0] * ansatz.num_parameters\n",
    "\n",
    "    gse = GroundStateEigensolver(mapper, vqe_solver)\n",
    "    excited_states_solver = QEOM(gse, estimator, \"sd\", EvaluationRule.ALL)\n",
    "    \n",
    "    result = excited_states_solver.solve(electronic_structure)\n",
    "    \n",
    "    return result.total_energies[energy_level]\n",
    "\n",
    "energy_levels = [0, 1, 2, 3]\n",
    "\n",
    "# Use the golden section search from scipy to find the minimum for each energy level\n",
    "for energy_level in energy_levels:\n",
    "    result = golden(lambda x: vqe_excited_states_calculation(x, energy_level), brack=(0.5, 2.8))\n",
    "    print(f\"The minimal energy for level {energy_level} is at interatomic distance {result} \\nCorresponding energy {vqe_excited_states_calculation(result, energy_level)}\")"
   ],
   "id": "bb7dc8bf2ff9856e",
   "outputs": [
    {
     "name": "stdout",
     "output_type": "stream",
     "text": [
      "The minimal energy for level 0 is at interatomic distance -0.7348649533712799 \n",
      "Corresponding energy -1.1373060511653026\n",
      "The minimal energy for level 1 is at interatomic distance 2.611326097521542 \n",
      "Corresponding energy -0.9351157268675666\n",
      "The minimal energy for level 2 is at interatomic distance 12.0136105833071 \n",
      "Corresponding energy -0.9331636986440043\n",
      "The minimal energy for level 3 is at interatomic distance 10.07738419848855 \n",
      "Corresponding energy -0.9331636980410591\n"
     ]
    }
   ],
   "execution_count": 8
  },
  {
   "metadata": {},
   "cell_type": "code",
   "outputs": [],
   "execution_count": null,
   "source": "",
   "id": "335529465eb925fa"
  }
 ],
 "metadata": {
  "kernelspec": {
   "display_name": "Python 3",
   "language": "python",
   "name": "python3"
  },
  "language_info": {
   "codemirror_mode": {
    "name": "ipython",
    "version": 2
   },
   "file_extension": ".py",
   "mimetype": "text/x-python",
   "name": "python",
   "nbconvert_exporter": "python",
   "pygments_lexer": "ipython2",
   "version": "2.7.6"
  }
 },
 "nbformat": 4,
 "nbformat_minor": 5
}
