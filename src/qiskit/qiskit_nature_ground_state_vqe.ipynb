{
 "cells": [
  {
   "metadata": {},
   "cell_type": "markdown",
   "source": [
    "## Using Qiskit Nature and VQE for finding the ground energy state of H2\n",
    "\n",
    "Qiskit Nature is an open-source framework which supports solving quantum mechanical natural science problems using quantum computing algorithms. This includes finding ground and excited states of electronic and vibrational structure problems, measuring the dipole moments of molecular systems, solving the Ising and Fermi-Hubbard models on lattices, and much more. \n",
    "\n",
    "In this file we will explore finding the ground energy state of the H2 molecule using VQE.\n",
    "\n",
    "For complete documentation on everything in the framework: [Qiskit Nature](https://doi.org/10.5281/zenodo.7828767)\n",
    "\n",
    "<br>\n",
    " \n",
    "In these examples we are using Qiskit version `1.0.2`\n",
    "\n",
    "(\n",
    "All the code blocks can be run individually in a Jupyter Notebook or in a Python script.\n",
    ")\n",
    "\n",
    "<br>\n",
    "\n",
    "---\n",
    "\n",
    "#### Driver\n",
    "\n",
    "First step in finding the ground state energy is defining the molecular structure. We save this in the driver variable. We create the hydrogen molecule, which contains two H atoms. We define these in the `atom` parameter where the three digits are the location of the atom in 3D space. \n",
    "\n",
    "The `basis` parameter in the provided code snippet specifies the basis set used in the quantum chemical calculation. In this context, the basis set, designated as `\"sto3g\"`, represents Slater-Type Orbitals (STOs) with three Gaussian primitives (3G). Basis sets are sets of mathematical functions used to describe the molecular orbitals of a molecule, forming the foundation for calculating its electronic structure. The choice of basis set impacts the accuracy and computational cost of the calculation, with simpler basis sets like `\"sto3g\"` offering quicker but potentially less accurate results compared to more complex alternatives. What you choose for basis could have significant effect on accuracy and efficiency.\n",
    "\n",
    "<br>\n",
    "\n",
    "#### Mapper\n",
    "\n",
    "For these examples we will be using the Jordan Wigner Mapper as it is the most straight-forward mapping with the simplest physical interpretation, because it maps the occupation of one spin-orbital to the occupation of one qubit. For more information on different ways of qubit mapping check the [Qiskit QubitMapper](https://qiskit-community.github.io/qiskit-nature/tutorials/06_qubit_mappers.html).\n",
    "\n",
    "<br>\n",
    "\n",
    "#### Ansatz\n",
    "\n",
    "An `Ansatz` is essentially a preliminary wavefunction or state, often parameterized, used as an initial approximation in quantum computations. It serves as an informed guess for solving specific problems, like identifying the ground state of a quantum system.\n",
    "\n",
    "In this example we use the base Unitary Coupled Cluster ([UCC](https://qiskit-community.github.io/qiskit-nature/stubs/qiskit_nature.second_q.circuit.library.UCC.html#qiskit_nature.second_q.circuit.library.UCC)) ansatz with the Hartree-Fock initial state. The UCC ansatz is a popular choice for variational quantum algorithms, as it can be used to approximate the ground state of a quantum system by applying a series of unitary operators to a reference state. The Hartree-Fock initial state is a common choice for the reference state, as it provides a good starting point for the optimization process for molecules carrying no spin electrons. We use the [UCCSD](https://qiskit-community.github.io/qiskit-nature/stubs/qiskit_nature.second_q.circuit.library.UCCSD.html#qiskit_nature.second_q.circuit.library.UCCSD) ansatz which is a subclass of the UCC ansatz, and is specifically designed for single and double excitations.\n",
    "\n",
    "Key step in using this ansatz is choosing the initial point. Since we picked the HartreeFock initial state before, in order to ensure we start from that, we need to initialize our initial_point with all-zero parameters. If you do not specify a starting point, it will choose a random starting point. This will greatly affect efficiency of the algorithm.\n",
    "\n",
    "<br>\n",
    "\n",
    "#### VQE Solver\n",
    "\n",
    "Putting everything together, wrapping the mapper and quantum algorithm in the `GroundStateEigensolver`. This will take care of the entire workflow: \n",
    "1. generating the second-quantized operators stored in our problem (here referred to as `electronic_structure`) \n",
    "2. mapping (and potentially reducing) the operators in the qubit space \n",
    "3. running the quantum algorithm on the Hamiltonian qubit operator \n",
    "4. once converged, evaluating the additional observables at the determined ground state \n",
    "\n",
    "Here `calc` is an instance of the `GroundStateEigensolver` class. `solve` is a method of this class, it takes an `ElectronicStructureProblem` as input (`electronic_structure`) and returns the ground state of the problem, along with other related information. "
   ],
   "id": "642cd75b4f04b97d"
  },
  {
   "metadata": {
    "ExecuteTime": {
     "end_time": "2024-05-11T11:30:14.867548Z",
     "start_time": "2024-05-11T11:30:14.639250Z"
    }
   },
   "cell_type": "code",
   "source": [
    "from qiskit_nature.units import DistanceUnit\n",
    "\n",
    "from qiskit_nature.second_q.drivers import PySCFDriver\n",
    "from qiskit_nature.second_q.mappers import JordanWignerMapper\n",
    "from qiskit_nature.second_q.circuit.library import HartreeFock, UCCSD\n",
    "from qiskit_nature.second_q.algorithms import GroundStateEigensolver\n",
    "\n",
    "from qiskit_algorithms import VQE\n",
    "from qiskit_algorithms.optimizers import SLSQP\n",
    "from qiskit.primitives import Estimator\n",
    "\n",
    "\n",
    "driver = PySCFDriver(\n",
    "    atom=\"H 0 0 0; H 0 0 0.735\",\n",
    "    basis=\"sto3g\",\n",
    "    charge=0,\n",
    "    spin=0,\n",
    "    unit=DistanceUnit.ANGSTROM,\n",
    ")\n",
    "\n",
    "electronic_structure = driver.run()\n",
    "mapper = JordanWignerMapper()\n",
    "\n",
    "ansatz = UCCSD(\n",
    "    electronic_structure.num_spatial_orbitals,\n",
    "    electronic_structure.num_particles,\n",
    "    mapper,\n",
    "    initial_state=HartreeFock(\n",
    "        electronic_structure.num_spatial_orbitals,\n",
    "        electronic_structure.num_particles,\n",
    "        mapper,\n",
    "    ),\n",
    ")\n",
    "\n",
    "vqe_solver = VQE(Estimator(), ansatz, SLSQP())\n",
    "vqe_solver.initial_point = [0.0] * ansatz.num_parameters\n",
    "\n",
    "calc = GroundStateEigensolver(mapper, vqe_solver)\n",
    "\n",
    "res = calc.solve(electronic_structure)\n",
    "print(res)"
   ],
   "id": "f3123f3934f72159",
   "outputs": [
    {
     "name": "stdout",
     "output_type": "stream",
     "text": [
      "=== GROUND STATE ENERGY ===\n",
      " \n",
      "* Electronic ground state energy (Hartree): -1.857275030144\n",
      "  - computed part:      -1.857275030144\n",
      "~ Nuclear repulsion energy (Hartree): 0.719968994449\n",
      "> Total ground state energy (Hartree): -1.137306035695\n",
      " \n",
      "=== MEASURED OBSERVABLES ===\n",
      " \n",
      "  0:  # Particles: 2.000 S: 0.000 S^2: 0.000 M: 0.000\n",
      " \n",
      "=== DIPOLE MOMENTS ===\n",
      " \n",
      "~ Nuclear dipole moment (a.u.): [0.0  0.0  1.3889487]\n",
      " \n",
      "  0: \n",
      "  * Electronic dipole moment (a.u.): [0.0  0.0  1.388948767747]\n",
      "    - computed part:      [0.0  0.0  1.388948767747]\n",
      "  > Dipole moment (a.u.): [0.0  0.0  -0.000000067747]  Total: 0.000000067747\n",
      "                 (debye): [0.0  0.0  -0.000000172195]  Total: 0.000000172195\n",
      " \n"
     ]
    }
   ],
   "execution_count": 10
  },
  {
   "metadata": {},
   "cell_type": "markdown",
   "source": [
    "## Plotting results\n",
    "\n",
    "Doing this calculation for a range of `np.linspace(0.5, 2.8, 50)` (50 points between 0.5 and 2.8) and plotting the results will give us the energy curve for the H2 molecule."
   ],
   "id": "c0734f940edac6b9"
  },
  {
   "metadata": {
    "ExecuteTime": {
     "end_time": "2024-05-11T11:30:23.377497Z",
     "start_time": "2024-05-11T11:30:16.498213Z"
    }
   },
   "cell_type": "code",
   "source": [
    "import numpy as np\n",
    "import matplotlib.pyplot as plt\n",
    "\n",
    "from qiskit_nature.units import DistanceUnit\n",
    "\n",
    "from qiskit_nature.second_q.drivers import PySCFDriver\n",
    "from qiskit_nature.second_q.mappers import JordanWignerMapper\n",
    "from qiskit_nature.second_q.circuit.library import HartreeFock, UCCSD\n",
    "from qiskit_nature.second_q.algorithms import GroundStateEigensolver\n",
    "\n",
    "from qiskit_algorithms import VQE\n",
    "from qiskit_algorithms.optimizers import SLSQP\n",
    "from qiskit.primitives import Estimator\n",
    "\n",
    "\n",
    "distances = np.linspace(0.5, 2.8, 50)\n",
    "\n",
    "results = []\n",
    "\n",
    "mapper = JordanWignerMapper()\n",
    "\n",
    "\n",
    "for distance in distances:\n",
    "    driver = PySCFDriver(\n",
    "        atom=f\"H 0 0 0; H 0 0 {distance}\",\n",
    "        basis=\"sto3g\",\n",
    "        charge=0,\n",
    "        spin=0,\n",
    "        unit=DistanceUnit.ANGSTROM,\n",
    "    )\n",
    "\n",
    "    electronic_structure = driver.run()\n",
    "\n",
    "    ansatz = UCCSD(\n",
    "        electronic_structure.num_spatial_orbitals,\n",
    "        electronic_structure.num_particles,\n",
    "        mapper,\n",
    "        initial_state=HartreeFock(\n",
    "            electronic_structure.num_spatial_orbitals,\n",
    "            electronic_structure.num_particles,\n",
    "            mapper,\n",
    "        ),\n",
    "    )\n",
    "    \n",
    "    vqe_solver = VQE(Estimator(), ansatz, SLSQP())\n",
    "    vqe_solver.initial_point = [0.0] * ansatz.num_parameters\n",
    "\n",
    "    calc = GroundStateEigensolver(mapper, vqe_solver)\n",
    "    res = calc.solve(electronic_structure)\n",
    "    results.append((distance, res.total_energies[0]))\n",
    "\n",
    "# Plot the results\n",
    "plt.plot([x[0] for x in results], [x[1] for x in results])\n",
    "plt.xlabel('Interatomic distance (Angstrom)')\n",
    "plt.ylabel('Energy (Hartree)')\n",
    "plt.title('VQE calculation of H2 molecule')\n",
    "plt.show()"
   ],
   "id": "743d120252bfe835",
   "outputs": [
    {
     "data": {
      "text/plain": [
       "<Figure size 640x480 with 1 Axes>"
      ],
      "image/png": "[encoded data removed]"
     },
     "metadata": {},
     "output_type": "display_data"
    }
   ],
   "execution_count": 11
  },
  {
   "metadata": {},
   "cell_type": "markdown",
   "source": "The minimum of the curve is the ground state energy at the equilibrium bond distance of the H2 molecule. We can find this by using the `min` function in Python and specifying the key as the energy.",
   "id": "334e20df67985c81"
  },
  {
   "metadata": {
    "ExecuteTime": {
     "end_time": "2024-05-11T11:30:25.659755Z",
     "start_time": "2024-05-11T11:30:25.656129Z"
    }
   },
   "cell_type": "code",
   "source": [
    "min_result = min(results, key=lambda x: x[1])\n",
    "\n",
    "print(f\"The minimal ground state energy is {min_result[1]} at inter atomic distance {min_result[0]}\")\n",
    "print(f\"{min_result[1] * 27.2114} eV\")"
   ],
   "id": "79525f71e01be9db",
   "outputs": [
    {
     "name": "stdout",
     "output_type": "stream",
     "text": [
      "The minimal ground state energy is -1.1373060261423558 at inter atomic distance 0.7346938775510203\n",
      "-30.9476891997701 eV\n"
     ]
    }
   ],
   "execution_count": 12
  },
  {
   "metadata": {},
   "cell_type": "markdown",
   "source": [
    "## Using a classical optimizer to find the minimum ground state energy\n",
    "\n",
    "If we put the VQE calculation in a function, we can use a classical optimizer to find the minimum of the curve. In this example we use the golden section search from scipy to find the minimum between a range of 0.5 and 1. This is a really efficient search algorithm as it only requires one new function evaluation per iteration. It is also robust and easy to use in the sense that is does not require any derivative information. However, it might not be the best choice for high-dimensional optimization problems."
   ],
   "id": "5561a88a73e32df0"
  },
  {
   "metadata": {
    "ExecuteTime": {
     "end_time": "2024-05-11T11:30:32.649624Z",
     "start_time": "2024-05-11T11:30:27.464802Z"
    }
   },
   "cell_type": "code",
   "source": [
    "from qiskit_nature.units import DistanceUnit\n",
    "\n",
    "from qiskit_nature.second_q.drivers import PySCFDriver\n",
    "from qiskit_nature.second_q.mappers import JordanWignerMapper\n",
    "from qiskit_nature.second_q.circuit.library import HartreeFock, UCCSD\n",
    "from qiskit_nature.second_q.algorithms import GroundStateEigensolver\n",
    "\n",
    "from qiskit_algorithms import VQE\n",
    "from qiskit_algorithms.optimizers import SLSQP\n",
    "from qiskit.primitives import Estimator\n",
    "\n",
    "from scipy.optimize import golden\n",
    "\n",
    "\n",
    "def vqe_calculation(distance):\n",
    "    driver = PySCFDriver(\n",
    "        atom=f\"H 0 0 0; H 0 0 {distance}\",\n",
    "        basis=\"sto3g\",\n",
    "        charge=0,\n",
    "        spin=0,\n",
    "        unit=DistanceUnit.ANGSTROM,\n",
    "    )\n",
    "\n",
    "    electronic_structure = driver.run()\n",
    "\n",
    "    ansatz = UCCSD(\n",
    "        electronic_structure.num_spatial_orbitals,\n",
    "        electronic_structure.num_particles,\n",
    "        mapper,\n",
    "        initial_state=HartreeFock(\n",
    "            electronic_structure.num_spatial_orbitals,\n",
    "            electronic_structure.num_particles,\n",
    "            mapper,\n",
    "        ),\n",
    "    )\n",
    "    \n",
    "    vqe_solver = VQE(Estimator(), ansatz, SLSQP())\n",
    "    vqe_solver.initial_point = [0.0] * ansatz.num_parameters\n",
    "\n",
    "    calc = GroundStateEigensolver(mapper, vqe_solver)\n",
    "    res = calc.solve(electronic_structure)\n",
    "    \n",
    "    return res.total_energies[0]\n",
    "\n",
    "mapper = JordanWignerMapper()\n",
    "\n",
    "# Use the golden section search from scipy to find the minimum\n",
    "result = golden(vqe_calculation, brack=(0.5, 1))\n",
    "print(f\"The minimal ground state energy is at interatomic distance {result} \\nCorresponding energy {vqe_calculation(result)}\")"
   ],
   "id": "64688ca31634a319",
   "outputs": [
    {
     "name": "stdout",
     "output_type": "stream",
     "text": [
      "The minimal ground state energy is at interatomic distance 0.7348645578016573 \n",
      "Corresponding energy -1.1373060511647608\n"
     ]
    }
   ],
   "execution_count": 13
  },
  {
   "metadata": {},
   "cell_type": "markdown",
   "source": [
    "## Finding the real ground state energy using classical numpy method\n",
    "\n",
    "To find the exact ground state energy of the H2 molecule we can use a purely classical solver in the Qiskit Nature framework: `NumpyMinimumEigenSolver`. This eigensolver exactly diagonalizes the Hamiltonian matrix and finds the lowest eigenvalue. Although this scales badly, it will give the exact ground state energy.\n",
    "\n",
    "Since we are using the same driver and mapper as before, we can use the same electronic structure object. But we because we are using a classical solver, we don't need an ansatz or a quantum solver. We can just use the `GroundStateEigensolver` with the `NumpyMinimumEigenSolver` as the solver.\n",
    "\n",
    "When we have defined the VQE calculation function we can use the golden search function just as before to find the minimum of the curve."
   ],
   "id": "d8f341099cfaf4"
  },
  {
   "metadata": {
    "ExecuteTime": {
     "end_time": "2024-05-11T11:30:35.647213Z",
     "start_time": "2024-05-11T11:30:34.377848Z"
    }
   },
   "cell_type": "code",
   "source": [
    "from qiskit_nature.units import DistanceUnit\n",
    "\n",
    "from qiskit_nature.second_q.drivers import PySCFDriver\n",
    "from qiskit_nature.second_q.mappers import JordanWignerMapper\n",
    "from qiskit_nature.second_q.algorithms import GroundStateEigensolver\n",
    "\n",
    "from qiskit_algorithms import NumPyMinimumEigensolver\n",
    "\n",
    "from scipy.optimize import golden\n",
    "\n",
    "\n",
    "def numpy_eigensolver(distance):\n",
    "    driver = PySCFDriver(\n",
    "        atom=f\"H 0 0 0; H 0 0 {distance}\",\n",
    "        basis=\"sto3g\",\n",
    "        charge=0,\n",
    "        spin=0,\n",
    "        unit=DistanceUnit.ANGSTROM,\n",
    "    )\n",
    "\n",
    "    electronic_structure = driver.run()\n",
    "    \n",
    "    calc = GroundStateEigensolver(mapper, numpy_solver)\n",
    "    res = calc.solve(electronic_structure)\n",
    "    \n",
    "    return res.total_energies[0]\n",
    "\n",
    "mapper = JordanWignerMapper()\n",
    "numpy_solver = NumPyMinimumEigensolver()\n",
    "\n",
    "# Use the golden section search from scipy to find the minimum\n",
    "numpy_result = golden(numpy_eigensolver, brack=(0.5, 1))\n",
    "print(f\"The minimal ground state energy is at interatomic distance {numpy_result} \\nCorresponding energy {numpy_eigensolver(numpy_result)}\")\n"
   ],
   "id": "8797d9e25a7b6243",
   "outputs": [
    {
     "name": "stdout",
     "output_type": "stream",
     "text": [
      "The minimal ground state energy is at interatomic distance 0.7348651737109518 \n",
      "Corresponding energy -1.1373060512221242\n"
     ]
    }
   ],
   "execution_count": 14
  },
  {
   "metadata": {},
   "cell_type": "markdown",
   "source": "Comparing the results from the VQE calculation and the exact diagonalizing we can see that the VQE calculation is very close to the exact result. This is a good indication that the VQE calculation is working as expected.",
   "id": "f52e3183082cd57c"
  },
  {
   "metadata": {
    "ExecuteTime": {
     "end_time": "2024-05-11T11:30:37.544820Z",
     "start_time": "2024-05-11T11:30:37.388665Z"
    }
   },
   "cell_type": "code",
   "source": [
    "vqe_distance = result\n",
    "vqe_energy = vqe_calculation(result)\n",
    "\n",
    "numpy_distance = numpy_result\n",
    "numpy_energy = numpy_eigensolver(numpy_result)\n",
    "\n",
    "distance_difference = abs(vqe_distance - numpy_distance)\n",
    "energy_difference = abs(vqe_energy - numpy_energy)\n",
    "\n",
    "print(f\"Difference in interatomic distance: {distance_difference}\")\n",
    "print(f\"Difference in energy: {energy_difference}\")"
   ],
   "id": "88bac18b03e0acb6",
   "outputs": [
    {
     "name": "stdout",
     "output_type": "stream",
     "text": [
      "Difference in interatomic distance: 6.159092945656752e-07\n",
      "Difference in energy: 5.736477959317199e-11\n"
     ]
    }
   ],
   "execution_count": 15
  },
  {
   "metadata": {
    "ExecuteTime": {
     "end_time": "2024-05-11T11:30:38.346588Z",
     "start_time": "2024-05-11T11:30:38.283764Z"
    }
   },
   "cell_type": "code",
   "source": [
    "import matplotlib.pyplot as plt\n",
    "\n",
    "\n",
    "methods = ['VQE', 'Numpy Eigensolver']\n",
    "distances = [vqe_distance, numpy_distance]\n",
    "energies = [vqe_energy, numpy_energy]\n",
    "\n",
    "fig, ax1 = plt.subplots()\n",
    "\n",
    "color = 'tab:blue'\n",
    "ax1.set_xlabel('Method')\n",
    "ax1.set_ylabel('Interatomic Distance', color=color)\n",
    "ax1.bar(methods, distances, color=color)\n",
    "ax1.tick_params(axis='y', labelcolor=color)\n",
    "\n",
    "ax2 = ax1.twinx()\n",
    "color = 'tab:red'\n",
    "ax2.set_ylabel('Energy', color=color)\n",
    "ax2.bar(methods, energies, color=color)\n",
    "ax2.tick_params(axis='y', labelcolor=color)\n",
    "\n",
    "fig.tight_layout()\n",
    "plt.show()"
   ],
   "id": "ec2bb0136e1f129d",
   "outputs": [
    {
     "data": {
      "text/plain": [
       "<Figure size 640x480 with 2 Axes>"
      ],
      "image/png": "[encoded data removed]"
     },
     "metadata": {},
     "output_type": "display_data"
    }
   ],
   "execution_count": 16
  },
  {
   "metadata": {},
   "cell_type": "code",
   "outputs": [],
   "execution_count": null,
   "source": "",
   "id": "1b8335bf5a1c6e21"
  }
 ],
 "metadata": {
  "kernelspec": {
   "display_name": "Python 3",
   "language": "python",
   "name": "python3"
  },
  "language_info": {
   "codemirror_mode": {
    "name": "ipython",
    "version": 2
   },
   "file_extension": ".py",
   "mimetype": "text/x-python",
   "name": "python",
   "nbconvert_exporter": "python",
   "pygments_lexer": "ipython2",
   "version": "2.7.6"
  }
 },
 "nbformat": 4,
 "nbformat_minor": 5
}
