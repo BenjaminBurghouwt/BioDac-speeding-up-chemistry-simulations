{
 "cells": [
  {
   "cell_type": "code",
   "id": "initial_id",
   "metadata": {
    "collapsed": true,
    "ExecuteTime": {
     "end_time": "2024-06-21T11:19:22.849924Z",
     "start_time": "2024-06-21T11:19:22.846049Z"
    }
   },
   "source": [
    "import numpy as np\n",
    "\n",
    "from qiskit.transpiler.preset_passmanagers import generate_preset_pass_manager\n",
    "from qiskit.circuit.library import EfficientSU2\n",
    "from qiskit.quantum_info import SparsePauliOp\n",
    "from qiskit_aer import Aer\n",
    "from qiskit_nature.second_q.drivers import PySCFDriver\n",
    "from qiskit_nature.second_q.mappers import JordanWignerMapper\n",
    "from qiskit_nature.units import DistanceUnit\n",
    "from qiskit_nature import settings\n",
    "\n",
    "from scipy.optimize import minimize\n",
    "\n",
    "import matplotlib.pyplot as plt\n",
    "\n",
    "from qiskit_ibm_runtime import QiskitRuntimeService, Session\n",
    "from qiskit_ibm_runtime import EstimatorV2 as Estimator"
   ],
   "outputs": [],
   "execution_count": 24
  },
  {
   "metadata": {
    "ExecuteTime": {
     "end_time": "2024-06-21T11:19:23.668202Z",
     "start_time": "2024-06-21T11:19:23.665198Z"
    }
   },
   "cell_type": "code",
   "source": "backend = Aer.get_backend(\"qasm_simulator\")",
   "id": "8f9fa66d0e6285e1",
   "outputs": [],
   "execution_count": 25
  },
  {
   "metadata": {
    "ExecuteTime": {
     "end_time": "2024-06-21T11:42:04.685134Z",
     "start_time": "2024-06-21T11:42:04.632874Z"
    }
   },
   "cell_type": "code",
   "source": [
    "from qiskit_nature.second_q.mappers import ParityMapper\n",
    "\n",
    "settings.use_pauli_sum_op = False\n",
    "\n",
    "driver = PySCFDriver(\n",
    "    atom=\"H 0 0 0; H 0 0 0.7348651644548676\",\n",
    "    basis=\"sto3g\",\n",
    "    charge=0,\n",
    "    spin=0,\n",
    "    unit=DistanceUnit.ANGSTROM,\n",
    ")\n",
    "\n",
    "electronic_structure = driver.run()\n",
    "\n",
    "hamiltonian = electronic_structure.hamiltonian.second_q_op()\n",
    "\n",
    "# mapper = JordanWignerMapper()\n",
    "mapper = ParityMapper(num_particles=electronic_structure.num_particles)\n",
    "tapered_mapper = electronic_structure.get_tapered_mapper(mapper)\n",
    "\n",
    "\n",
    "# qubit_op = mapper.map(hamiltonian)\n",
    "reduced_op = mapper.map(hamiltonian)\n",
    "tapered_op = tapered_mapper.map(hamiltonian)\n",
    "\n",
    "hamiltonian_list = []\n",
    "\n",
    "for pauli, coeff in sorted(tapered_op.label_iter()):\n",
    "    # print(f\"{coeff.real:+.8f} * {pauli}\")\n",
    "    hamiltonian_list.append((pauli, coeff.real))\n",
    "    \n",
    "hamiltonian = SparsePauliOp.from_list(hamiltonian_list)\n",
    "print(hamiltonian)"
   ],
   "id": "1e25365cf5b17360",
   "outputs": [
    {
     "name": "stdout",
     "output_type": "stream",
     "text": [
      "SparsePauliOp(['I', 'X', 'Z'],\n",
      "              coeffs=[-1.04106344+0.j, -0.18092368+0.j, -0.79604251+0.j])\n"
     ]
    }
   ],
   "execution_count": 65
  },
  {
   "metadata": {
    "ExecuteTime": {
     "end_time": "2024-06-21T11:42:06.722524Z",
     "start_time": "2024-06-21T11:42:06.675380Z"
    }
   },
   "cell_type": "code",
   "source": [
    "ansatz = EfficientSU2(hamiltonian.num_qubits)\n",
    "num_params = ansatz.num_parameters\n",
    "\n",
    "ansatz.decompose().draw(\"mpl\", style=\"iqp\")"
   ],
   "id": "68e979b0d17d9fe",
   "outputs": [
    {
     "data": {
      "text/plain": [
       "<Figure size 770.731x117.056 with 1 Axes>"
      ],
      "image/png": "[encoded data removed]"
     },
     "execution_count": 66,
     "metadata": {},
     "output_type": "execute_result"
    }
   ],
   "execution_count": 66
  },
  {
   "metadata": {
    "ExecuteTime": {
     "end_time": "2024-06-21T11:42:08.594613Z",
     "start_time": "2024-06-21T11:42:08.547074Z"
    }
   },
   "cell_type": "code",
   "source": [
    "target = backend.target\n",
    "pm = generate_preset_pass_manager(target=target, optimization_level=3)\n",
    "\n",
    "ansatz_isa = pm.run(ansatz)\n",
    "\n",
    "hamiltonian_isa = hamiltonian.apply_layout(layout=ansatz_isa.layout)\n",
    "\n",
    "ansatz_isa.draw(output=\"mpl\", idle_wires=False, style=\"iqp\")"
   ],
   "id": "1d7fffbcdb2c2f29",
   "outputs": [
    {
     "data": {
      "text/plain": [
       "<Figure size 770.731x117.056 with 1 Axes>"
      ],
      "image/png": "[encoded data removed]"
     },
     "execution_count": 67,
     "metadata": {},
     "output_type": "execute_result"
    }
   ],
   "execution_count": 67
  },
  {
   "metadata": {
    "ExecuteTime": {
     "end_time": "2024-06-21T11:42:09.592344Z",
     "start_time": "2024-06-21T11:42:09.588222Z"
    }
   },
   "cell_type": "code",
   "source": [
    "def cost_func(params, ansatz, hamiltonian, estimator):\n",
    "    \"\"\"Return estimate of energy from estimator\n",
    "\n",
    "    Parameters:\n",
    "        params (ndarray): Array of ansatz parameters\n",
    "        ansatz (QuantumCircuit): Parameterized ansatz circuit\n",
    "        hamiltonian (SparsePauliOp): Operator representation of Hamiltonian\n",
    "        estimator (EstimatorV2): Estimator primitive instance\n",
    "        cost_history_dict: Dictionary for storing intermediate results\n",
    "\n",
    "    Returns:\n",
    "        float: Energy estimate\n",
    "    \"\"\"\n",
    "    pub = (ansatz, [hamiltonian], [params])\n",
    "    result = estimator.run(pubs=[pub]).result()\n",
    "    energy = result[0].data.evs[0]\n",
    "\n",
    "    cost_history_dict[\"iters\"] += 1\n",
    "    cost_history_dict[\"prev_vector\"] = params\n",
    "    cost_history_dict[\"cost_history\"].append(energy)\n",
    "    print(f\"Iters. done: {cost_history_dict['iters']} [Current cost: {energy}]\")\n",
    "\n",
    "    return energy\n",
    "\n",
    "cost_history_dict = {\n",
    "    \"prev_vector\": None,\n",
    "    \"iters\": 0,\n",
    "    \"cost_history\": [],\n",
    "}"
   ],
   "id": "c252935625e252e7",
   "outputs": [],
   "execution_count": 68
  },
  {
   "metadata": {
    "ExecuteTime": {
     "end_time": "2024-06-21T11:42:10.422169Z",
     "start_time": "2024-06-21T11:42:10.419283Z"
    }
   },
   "cell_type": "code",
   "source": [
    "x0 = 2 * np.pi * np.random.random(num_params)\n",
    "x0"
   ],
   "id": "9ace7b23f295359b",
   "outputs": [
    {
     "data": {
      "text/plain": [
       "array([2.00150077, 2.09826324, 2.08231917, 5.61910119, 1.82714015,\n",
       "       3.63293561, 5.6568992 , 5.30659108])"
      ]
     },
     "execution_count": 69,
     "metadata": {},
     "output_type": "execute_result"
    }
   ],
   "execution_count": 69
  },
  {
   "metadata": {
    "ExecuteTime": {
     "end_time": "2024-06-21T11:42:12.982981Z",
     "start_time": "2024-06-21T11:42:12.106342Z"
    }
   },
   "cell_type": "code",
   "source": [
    "with Session(backend=backend) as session:\n",
    "    estimator = Estimator(mode=session)\n",
    "    estimator.options.default_shots = 10000\n",
    "\n",
    "    res = minimize(\n",
    "        cost_func,\n",
    "        x0,\n",
    "        args=(ansatz_isa, hamiltonian_isa, estimator),\n",
    "        method=\"cobyla\",\n",
    "    )"
   ],
   "id": "205236b99a8afcb8",
   "outputs": [
    {
     "name": "stdout",
     "output_type": "stream",
     "text": [
      "Iters. done: 1 [Current cost: -0.5707249145294198]\n",
      "Iters. done: 2 [Current cost: -0.9979313758393799]\n",
      "Iters. done: 3 [Current cost: -0.9356168343829958]\n",
      "Iters. done: 4 [Current cost: -0.3314487187155528]\n",
      "Iters. done: 5 [Current cost: -0.9790811335498084]\n",
      "Iters. done: 6 [Current cost: -0.5155296079433389]\n",
      "Iters. done: 7 [Current cost: -1.4735345969408915]\n",
      "Iters. done: 8 [Current cost: -1.1322637916021048]\n",
      "Iters. done: 9 [Current cost: -1.603273035566588]\n",
      "Iters. done: 10 [Current cost: -1.509594299227706]\n",
      "Iters. done: 11 [Current cost: -1.6007305648885244]\n",
      "Iters. done: 12 [Current cost: -1.6203933066979115]\n",
      "Iters. done: 13 [Current cost: -1.5470893934036807]\n",
      "Iters. done: 14 [Current cost: -1.599722845352994]\n",
      "Iters. done: 15 [Current cost: -1.5843342927813628]\n",
      "Iters. done: 16 [Current cost: -1.5196500455135091]\n",
      "Iters. done: 17 [Current cost: -1.5897059728877168]\n",
      "Iters. done: 18 [Current cost: -1.7618239318739088]\n",
      "Iters. done: 19 [Current cost: -1.8112757609590848]\n",
      "Iters. done: 20 [Current cost: -1.8230246696934076]\n",
      "Iters. done: 21 [Current cost: -1.790497626966045]\n",
      "Iters. done: 22 [Current cost: -1.8364525461703196]\n",
      "Iters. done: 23 [Current cost: -1.848749935581147]\n",
      "Iters. done: 24 [Current cost: -1.8231836634665424]\n",
      "Iters. done: 25 [Current cost: -1.8312229646016651]\n",
      "Iters. done: 26 [Current cost: -1.8461184348918405]\n",
      "Iters. done: 27 [Current cost: -1.8416838751404183]\n",
      "Iters. done: 28 [Current cost: -1.848838700834595]\n",
      "Iters. done: 29 [Current cost: -1.842072144157933]\n",
      "Iters. done: 30 [Current cost: -1.8469485180173573]\n",
      "Iters. done: 31 [Current cost: -1.8383793258910504]\n",
      "Iters. done: 32 [Current cost: -1.8560117455531797]\n",
      "Iters. done: 33 [Current cost: -1.8387505937700122]\n",
      "Iters. done: 34 [Current cost: -1.8573545596766503]\n",
      "Iters. done: 35 [Current cost: -1.855004873242592]\n",
      "Iters. done: 36 [Current cost: -1.85608229178222]\n",
      "Iters. done: 37 [Current cost: -1.8521956302401539]\n",
      "Iters. done: 38 [Current cost: -1.8519655077708312]\n",
      "Iters. done: 39 [Current cost: -1.8517185959691909]\n",
      "Iters. done: 40 [Current cost: -1.8613123499149045]\n",
      "Iters. done: 41 [Current cost: -1.8591568244653827]\n",
      "Iters. done: 42 [Current cost: -1.8501815149580656]\n",
      "Iters. done: 43 [Current cost: -1.856824456879231]\n",
      "Iters. done: 44 [Current cost: -1.8546157570001347]\n",
      "Iters. done: 45 [Current cost: -1.8539097122425863]\n",
      "Iters. done: 46 [Current cost: -1.854598438152228]\n",
      "Iters. done: 47 [Current cost: -1.856665621960773]\n",
      "Iters. done: 48 [Current cost: -1.8646868629261646]\n",
      "Iters. done: 49 [Current cost: -1.8522132667974138]\n",
      "Iters. done: 50 [Current cost: -1.853344124524411]\n",
      "Iters. done: 51 [Current cost: -1.8560999812910388]\n",
      "Iters. done: 52 [Current cost: -1.8543688451984943]\n",
      "Iters. done: 53 [Current cost: -1.8517187548238678]\n",
      "Iters. done: 54 [Current cost: -1.8597222533288813]\n",
      "Iters. done: 55 [Current cost: -1.8490153841165486]\n",
      "Iters. done: 56 [Current cost: -1.8561355191633533]\n",
      "Iters. done: 57 [Current cost: -1.8553936188241371]\n",
      "Iters. done: 58 [Current cost: -1.8535208078063645]\n",
      "Iters. done: 59 [Current cost: -1.8585736531415065]\n",
      "Iters. done: 60 [Current cost: -1.8597928525094802]\n",
      "Iters. done: 61 [Current cost: -1.8526903010683768]\n",
      "Iters. done: 62 [Current cost: -1.8573724080401464]\n",
      "Iters. done: 63 [Current cost: -1.850570101684934]\n",
      "Iters. done: 64 [Current cost: -1.8566478795003951]\n",
      "Iters. done: 65 [Current cost: -1.855057782914372]\n",
      "Iters. done: 66 [Current cost: -1.860022551366332]\n",
      "Iters. done: 67 [Current cost: -1.853785779777736]\n",
      "Iters. done: 68 [Current cost: -1.8519129687599634]\n",
      "Iters. done: 69 [Current cost: -1.8580437091987636]\n",
      "Iters. done: 70 [Current cost: -1.8539447205993116]\n",
      "Iters. done: 71 [Current cost: -1.8494040767465347]\n",
      "Iters. done: 72 [Current cost: -1.8550578888174898]\n",
      "Iters. done: 73 [Current cost: -1.8498811110174973]\n",
      "Iters. done: 74 [Current cost: -1.8603229553069]\n",
      "Iters. done: 75 [Current cost: -1.8540684942094852]\n",
      "Iters. done: 76 [Current cost: -1.859033209709886]\n",
      "Iters. done: 77 [Current cost: -1.8539976832226506]\n",
      "Iters. done: 78 [Current cost: -1.850994173332558]\n",
      "Iters. done: 79 [Current cost: -1.856753857698632]\n",
      "Iters. done: 80 [Current cost: -1.8554465814474759]\n",
      "Iters. done: 81 [Current cost: -1.8477609116340545]\n",
      "Iters. done: 82 [Current cost: -1.851294577273126]\n",
      "Iters. done: 83 [Current cost: -1.8507645274272653]\n",
      "Iters. done: 84 [Current cost: -1.8523370404075874]\n",
      "Iters. done: 85 [Current cost: -1.8552168825906246]\n",
      "Iters. done: 86 [Current cost: -1.8472663467089498]\n",
      "Iters. done: 87 [Current cost: -1.8492450300218413]\n",
      "Iters. done: 88 [Current cost: -1.8589625046261693]\n",
      "Iters. done: 89 [Current cost: -1.8595809490645658]\n",
      "Iters. done: 90 [Current cost: -1.8500047257729944]\n"
     ]
    }
   ],
   "execution_count": 70
  },
  {
   "metadata": {
    "ExecuteTime": {
     "end_time": "2024-06-21T11:42:16.793365Z",
     "start_time": "2024-06-21T11:42:16.788774Z"
    }
   },
   "cell_type": "code",
   "source": "res",
   "id": "6527e27afab30d81",
   "outputs": [
    {
     "data": {
      "text/plain": [
       " message: Optimization terminated successfully.\n",
       " success: True\n",
       "  status: 1\n",
       "     fun: -1.8500047257729944\n",
       "       x: [ 3.053e+00  1.736e+00  1.882e+00  5.604e+00  1.651e+00\n",
       "            5.270e+00  5.709e+00  6.375e+00]\n",
       "    nfev: 90\n",
       "   maxcv: 0.0"
      ]
     },
     "execution_count": 71,
     "metadata": {},
     "output_type": "execute_result"
    }
   ],
   "execution_count": 71
  },
  {
   "metadata": {
    "ExecuteTime": {
     "end_time": "2024-06-21T11:42:19.042793Z",
     "start_time": "2024-06-21T11:42:18.985504Z"
    }
   },
   "cell_type": "code",
   "source": [
    "fig, ax = plt.subplots()\n",
    "ax.plot(range(cost_history_dict[\"iters\"]), cost_history_dict[\"cost_history\"])\n",
    "ax.set_xlabel(\"Iterations\")\n",
    "ax.set_ylabel(\"Cost\")\n",
    "plt.draw()"
   ],
   "id": "76969bfc9765c9c9",
   "outputs": [
    {
     "data": {
      "text/plain": [
       "<Figure size 640x480 with 1 Axes>"
      ],
      "image/png": "[encoded data removed]"
     },
     "metadata": {},
     "output_type": "display_data"
    }
   ],
   "execution_count": 72
  },
  {
   "metadata": {},
   "cell_type": "code",
   "outputs": [],
   "execution_count": null,
   "source": "",
   "id": "30b47f4d6d2b02b"
  }
 ],
 "metadata": {
  "kernelspec": {
   "display_name": "Python 3",
   "language": "python",
   "name": "python3"
  },
  "language_info": {
   "codemirror_mode": {
    "name": "ipython",
    "version": 2
   },
   "file_extension": ".py",
   "mimetype": "text/x-python",
   "name": "python",
   "nbconvert_exporter": "python",
   "pygments_lexer": "ipython2",
   "version": "2.7.6"
  }
 },
 "nbformat": 4,
 "nbformat_minor": 5
}
