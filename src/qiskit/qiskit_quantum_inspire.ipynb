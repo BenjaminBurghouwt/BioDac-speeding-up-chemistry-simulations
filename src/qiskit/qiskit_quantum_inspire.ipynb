{
 "cells": [
  {
   "cell_type": "code",
   "id": "initial_id",
   "metadata": {
    "collapsed": true,
    "ExecuteTime": {
     "end_time": "2024-06-23T10:47:37.285163Z",
     "start_time": "2024-06-23T10:47:36.173217Z"
    }
   },
   "source": [
    "import os\n",
    "from dotenv import load_dotenv\n",
    "from matplotlib import pyplot as plt\n",
    "\n",
    "from quantuminspire.credentials import enable_account\n",
    "from quantuminspire.qiskit import QI\n",
    "\n",
    "from qiskit_aer import Aer\n",
    "\n",
    "from qiskit_nature.second_q.mappers import JordanWignerMapper, ParityMapper\n",
    "\n",
    "from src.qiskit.evaluation import manual_vqe\n",
    "from src.qiskit.evaluation.hydrogen_system.hydrogen_system import HydrogenSystem"
   ],
   "outputs": [],
   "execution_count": 1
  },
  {
   "metadata": {
    "ExecuteTime": {
     "end_time": "2024-06-23T10:47:41.116988Z",
     "start_time": "2024-06-23T10:47:40.509842Z"
    }
   },
   "cell_type": "code",
   "source": [
    "load_dotenv()\n",
    "api_token = os.getenv('QI_API_TOKEN')\n",
    "\n",
    "project_name = 'Orbitals - Speeding up Chemistry Simulations'\n",
    "\n",
    "enable_account(api_token)\n",
    "QI.set_authentication(project_name=project_name)\n",
    "\n",
    "qi_backend = QI.get_backend('QX single-node simulator')\n",
    "simulated_backend = Aer.get_backend(\"qasm_simulator\")"
   ],
   "id": "338eca6ca1ed1b51",
   "outputs": [
    {
     "name": "stderr",
     "output_type": "stream",
     "text": [
      "/var/folders/6s/q0ttmhtn4jn5782f1n91hg8h0000gn/T/ipykernel_5721/751153530.py:9: DeprecationWarning: The method ``qiskit.providers.provider.ProviderV1.get_backend()`` is deprecated as of qiskit 1.1. It will be removed no earlier than 3 months after the release date. The abstract Provider and ProviderV1 classes are deprecated and will  be removed in 2.0. You can just remove it as the parent class and a `get_backend` method that returns the backends from `self.backend`.\n",
      "  qi_backend = QI.get_backend('QX single-node simulator')\n"
     ]
    }
   ],
   "execution_count": 2
  },
  {
   "metadata": {
    "ExecuteTime": {
     "end_time": "2024-06-23T10:47:44.065055Z",
     "start_time": "2024-06-23T10:47:43.983778Z"
    }
   },
   "cell_type": "code",
   "source": [
    "hydrogen_num_particles = (1, 1)\n",
    "\n",
    "jordan_wigner_mapper = JordanWignerMapper()\n",
    "parity_mapper = ParityMapper(num_particles=hydrogen_num_particles)\n",
    "\n",
    "hydrogen_system = HydrogenSystem(0.735, parity_mapper, use_tapered_mapper=True)"
   ],
   "id": "514bc1a40794f916",
   "outputs": [],
   "execution_count": 3
  },
  {
   "metadata": {
    "ExecuteTime": {
     "end_time": "2024-06-23T10:50:15.187387Z",
     "start_time": "2024-06-23T10:47:52.679085Z"
    }
   },
   "cell_type": "code",
   "source": [
    "result, cost_history = manual_vqe.vqe_calculation(0.735, hydrogen_system, backend=qi_backend)\n",
    "\n",
    "print(result)"
   ],
   "id": "525a402c7a7f1285",
   "outputs": [
    {
     "name": "stderr",
     "output_type": "stream",
     "text": [
      "/Users/benjamin/Code Projects/HvA/biodac-speeding-up-chemistry-simulations/venv/lib/python3.12/site-packages/qiskit/providers/backend_compat.py:126: RuntimeWarning: No gate definition for barrier can be found and is being excluded from the generated target. You can use `custom_name_mapping` to provide a definition for this operation.\n",
      "  warnings.warn(\n",
      "/Users/benjamin/Code Projects/HvA/biodac-speeding-up-chemistry-simulations/venv/lib/python3.12/site-packages/qiskit/providers/backend_compat.py:126: RuntimeWarning: No gate definition for snapshot can be found and is being excluded from the generated target. You can use `custom_name_mapping` to provide a definition for this operation.\n",
      "  warnings.warn(\n",
      "The backend for which the project was created is different from the backend type given: QX single-node simulator. The experiment is run on backend QX single-node simulator.\n",
      "The backend for which the project was created is different from the backend type given: QX single-node simulator. The experiment is run on backend QX single-node simulator.\n",
      "The backend for which the project was created is different from the backend type given: QX single-node simulator. The experiment is run on backend QX single-node simulator.\n",
      "The backend for which the project was created is different from the backend type given: QX single-node simulator. The experiment is run on backend QX single-node simulator.\n",
      "The backend for which the project was created is different from the backend type given: QX single-node simulator. The experiment is run on backend QX single-node simulator.\n",
      "The backend for which the project was created is different from the backend type given: QX single-node simulator. The experiment is run on backend QX single-node simulator.\n",
      "The backend for which the project was created is different from the backend type given: QX single-node simulator. The experiment is run on backend QX single-node simulator.\n",
      "The backend for which the project was created is different from the backend type given: QX single-node simulator. The experiment is run on backend QX single-node simulator.\n",
      "The backend for which the project was created is different from the backend type given: QX single-node simulator. The experiment is run on backend QX single-node simulator.\n",
      "The backend for which the project was created is different from the backend type given: QX single-node simulator. The experiment is run on backend QX single-node simulator.\n",
      "The backend for which the project was created is different from the backend type given: QX single-node simulator. The experiment is run on backend QX single-node simulator.\n",
      "The backend for which the project was created is different from the backend type given: QX single-node simulator. The experiment is run on backend QX single-node simulator.\n",
      "The backend for which the project was created is different from the backend type given: QX single-node simulator. The experiment is run on backend QX single-node simulator.\n",
      "The backend for which the project was created is different from the backend type given: QX single-node simulator. The experiment is run on backend QX single-node simulator.\n"
     ]
    },
    {
     "name": "stdout",
     "output_type": "stream",
     "text": [
      " message: Optimization terminated successfully.\n",
      " success: True\n",
      "  status: 1\n",
      "     fun: -1.135965611968143\n",
      "       x: [-1.373e-01]\n",
      "    nfev: 21\n",
      "   maxcv: 0.0\n"
     ]
    }
   ],
   "execution_count": 4
  },
  {
   "metadata": {
    "ExecuteTime": {
     "end_time": "2024-06-23T10:50:22.001385Z",
     "start_time": "2024-06-23T10:50:21.917271Z"
    }
   },
   "cell_type": "code",
   "source": [
    "fig, ax = plt.subplots()\n",
    "ax.plot(range(cost_history[\"iters\"]), cost_history[\"cost_history\"])\n",
    "ax.set_xlabel(\"Iterations\")\n",
    "ax.set_ylabel(\"Cost\")\n",
    "plt.draw()"
   ],
   "id": "6b6565524b275df3",
   "outputs": [
    {
     "data": {
      "text/plain": [
       "<Figure size 640x480 with 1 Axes>"
      ],
      "image/png": "[encoded data removed]"
     },
     "metadata": {},
     "output_type": "display_data"
    }
   ],
   "execution_count": 5
  },
  {
   "metadata": {},
   "cell_type": "code",
   "outputs": [],
   "execution_count": null,
   "source": "",
   "id": "df7ff72e856e9c37"
  }
 ],
 "metadata": {
  "kernelspec": {
   "display_name": "Python 3",
   "language": "python",
   "name": "python3"
  },
  "language_info": {
   "codemirror_mode": {
    "name": "ipython",
    "version": 2
   },
   "file_extension": ".py",
   "mimetype": "text/x-python",
   "name": "python",
   "nbconvert_exporter": "python",
   "pygments_lexer": "ipython2",
   "version": "2.7.6"
  }
 },
 "nbformat": 4,
 "nbformat_minor": 5
}
